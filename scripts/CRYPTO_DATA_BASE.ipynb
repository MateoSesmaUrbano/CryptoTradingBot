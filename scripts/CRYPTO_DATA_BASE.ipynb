{
  "nbformat": 4,
  "nbformat_minor": 0,
  "metadata": {
    "colab": {
      "name": "CRYPTO_DATA_BASE",
      "provenance": [],
      "collapsed_sections": []
    },
    "kernelspec": {
      "name": "python3",
      "display_name": "Python 3"
    },
    "language_info": {
      "name": "python"
    },
    "accelerator": "GPU"
  },
  "cells": [
    {
      "cell_type": "markdown",
      "source": [
        "## This script generates a pandas DB from crypto data price and some indicators"
      ],
      "metadata": {
        "id": "9exITCHufpm9"
      }
    },
    {
      "cell_type": "markdown",
      "source": [
        "### Constants"
      ],
      "metadata": {
        "id": "NvCj7SIcEkq4"
      }
    },
    {
      "cell_type": "markdown",
      "source": [
        "### TaLIB installation"
      ],
      "metadata": {
        "id": "SjjfE4umf36n"
      }
    },
    {
      "cell_type": "markdown",
      "source": [
        "TaLib is a package to generate indicators from data price"
      ],
      "metadata": {
        "id": "jiLdSBFdf8Z7"
      }
    },
    {
      "cell_type": "code",
      "execution_count": null,
      "metadata": {
        "id": "74p-mlaqduCC"
      },
      "outputs": [],
      "source": [
        "import os\n",
        "# download TA-Lib \n",
        "!wget http://prdownloads.sourceforge.net/ta-lib/ta-lib-0.4.0-src.tar.gz\n",
        "!tar xvzf ta-lib-0.4.0-src.tar.gz\n",
        "os.chdir('ta-lib') # Can't use !cd in co-lab\n",
        "!./configure --prefix=/usr\n",
        "!make\n",
        "!make install\n",
        "# wait ~ 2min\n",
        "os.chdir('../')\n",
        "!pip install TA-Lib"
      ]
    },
    {
      "cell_type": "markdown",
      "source": [
        "### Imports"
      ],
      "metadata": {
        "id": "foFht7HkgEgO"
      }
    },
    {
      "cell_type": "code",
      "source": [
        "import talib\n",
        "import matplotlib.pyplot as plt\n",
        "import numpy as np\n",
        "import pandas as pd"
      ],
      "metadata": {
        "id": "mS3b6J6Jd59g"
      },
      "execution_count": 1,
      "outputs": []
    },
    {
      "cell_type": "markdown",
      "source": [
        "### API management"
      ],
      "metadata": {
        "id": "HrPLJ7qZgXCy"
      }
    },
    {
      "cell_type": "code",
      "source": [
        "!pip install python-kucoin\n",
        "!pip install dateparser\n",
        "!pip install pytz\n",
        "!pip install tvfeed\n",
        "!pip install yfinance"
      ],
      "metadata": {
        "id": "v0fhnIrZgnF7"
      },
      "execution_count": null,
      "outputs": []
    },
    {
      "cell_type": "code",
      "source": [
        "\n",
        "# Python Kucoin API documentation: https://python-kucoin.readthedocs.io/en/latest/\n",
        "\n",
        "\n",
        "# IMPORTS\n",
        "from kucoin.client import Client\n",
        "\n",
        "def client_creation():\n",
        "    return Client(api_key, secret_key, api_passphrase)\n"
      ],
      "metadata": {
        "id": "CiMmxzRngXPt"
      },
      "execution_count": 3,
      "outputs": []
    },
    {
      "cell_type": "code",
      "source": [
        "# currencies = client.get_currencies()\n",
        "# for c in currencies:\n",
        "#   print(c[\"fullName\"])"
      ],
      "metadata": {
        "id": "1cTTqLjDljdo"
      },
      "execution_count": 4,
      "outputs": []
    },
    {
      "cell_type": "markdown",
      "source": [
        "### Data generation function"
      ],
      "metadata": {
        "id": "GnYJqttYgLqD"
      }
    },
    {
      "cell_type": "markdown",
      "source": [
        "Pandas to tensor"
      ],
      "metadata": {
        "id": "8Xxu0-fDqczL"
      }
    },
    {
      "cell_type": "code",
      "source": [
        "import datetime as dt\n",
        "import dateparser\n",
        "import pytz\n",
        "\n",
        "# https://es.stackoverflow.com/questions/93979/problema-al-definir-zona-horaria-mediante-tzinfo-en-datetime-usando-pytz-timezon\n",
        "\n"
      ],
      "metadata": {
        "id": "7g_so7bwqnFx"
      },
      "execution_count": 5,
      "outputs": []
    },
    {
      "cell_type": "markdown",
      "source": [
        "Reference: https://sammchardy.github.io/historical-data-download-kucoin/\n",
        "\n",
        "Kucoin request: https://docs.kucoin.com/#get-klines\n",
        "\n",
        "Ta-lib documentation: https://mrjbq7.github.io/ta-lib/funcs.html"
      ],
      "metadata": {
        "id": "BOVF8PPCpSdO"
      }
    },
    {
      "cell_type": "code",
      "source": [
        "from datetime import date, datetime, timedelta\n",
        "\n",
        "def perdelta(start, end, delta):\n",
        "    curr = start\n",
        "    dates = []\n",
        "    while curr < end:\n",
        "        dates.append(curr)\n",
        "        curr += delta\n",
        "    dates.append(end)\n",
        "    return dates"
      ],
      "metadata": {
        "id": "2CTwClWrsz93"
      },
      "execution_count": 7,
      "outputs": []
    },
    {
      "cell_type": "code",
      "source": [
        "import requests\n",
        "import json\n",
        "\n",
        "def get_historical_data_kucoin(symbol, interval, fromStr, toStr = None):\n",
        "    \"\"\"\n",
        "    symbol \tString \tsymbol\n",
        "    startAt \tlong \t[Optional] Start time (second), default is 0\n",
        "    endAt \tlong \t[Optional] End time (second), default is 0\n",
        "    type \tString \tType of candlestick patterns: 1min, 3min, 5min, 15min, 30min, 1hour, 2hour, 4hour, 6hour, 8hour, 12hour, 1day, 1week\n",
        "    \"\"\"\n",
        "\n",
        "\n",
        "    base_url = \"https://api.kucoin.com\"\n",
        "    path = \"/api/v1/market/candles\"\n",
        "\n",
        "    print(dateparser.parse(fromStr))\n",
        "\n",
        "    from_t = dt.datetime.timestamp(dateparser.parse(fromStr))\n",
        "\n",
        "    if toStr is None:\n",
        "        toStr = 'now'\n",
        "    to_t = dt.datetime.timestamp(dateparser.parse(toStr))\n",
        "\n",
        "\n",
        "\n",
        "    if interval == \"1hour\":\n",
        "        dates = perdelta(dateparser.parse(fromStr), dateparser.parse(toStr), timedelta(days=60))\n",
        "    elif interval == \"30min\":\n",
        "        dates = perdelta(dateparser.parse(fromStr), dateparser.parse(toStr), timedelta(days=30))\n",
        "    elif interval == \"15min\":\n",
        "        dates = perdelta(dateparser.parse(fromStr), dateparser.parse(toStr), timedelta(days=15))\n",
        "\n",
        "    df = pd.DataFrame()\n",
        "\n",
        "    for i in range(len(dates)-1):\n",
        "        parameters = {\"symbol\": symbol,\n",
        "                        \"startAt\": int(dt.datetime.timestamp(dates[i])),\n",
        "                        \"endAt\": int(dt.datetime.timestamp(dates[i+1])),\n",
        "                        \"type\": interval}\n",
        "\n",
        "        r = requests.get(base_url + path, params = parameters)\n",
        "        #for line in r.json()[\"data\"]:\n",
        "        df_t = pd.DataFrame(r.json()[\"data\"])\n",
        "        df_t.columns = [\"Time\", \"Open\", \"Close\", \"High\", \"Low\", \"Volume\", \"Turnover\"]\n",
        "        df_t = df_t.set_index(\"Time\",)\n",
        "        df_t = df_t.astype(float)\n",
        "        df_t = df_t.iloc[::-1]\n",
        "\n",
        "        df = pd.concat([df,df_t])\n",
        "\n",
        "    return df"
      ],
      "metadata": {
        "id": "gCkZ01BmYAh4"
      },
      "execution_count": 8,
      "outputs": []
    },
    {
      "cell_type": "code",
      "source": [
        "def get_indicators(df, percent = False, norm = False):\n",
        "  # MMA\n",
        "  for name, v in zip([\"EMA10\", \"EMA15\", \"EMA20\", \"EMA25\", \\\n",
        "                        \"EMA50\", \"EMA75\", \"EMA100\", \"EMA200\"] \\\n",
        "            , [10, 15, 20, 25, 50, 75, 100, 200]):\n",
        "        df[name] = talib.SMA(df.Close.values, timeperiod=v)\n",
        "\n",
        "  # RSI\n",
        "  df[\"RSI14\"] = talib.RSI(df.Close.values, timeperiod=14)\n",
        "\n",
        "  # Bollinger\n",
        "  df[\"boll_upperband\"], df[\"boll_middleband\"], df[\"boll_lowerband\"] = talib.BBANDS(df.Close.values, timeperiod=5, nbdevup=2, nbdevdn=2, matype=0)\n",
        "\n",
        "\n",
        "  # Average Directional Movement Index Rating\n",
        "  df[\"ADXR\"] = talib.ADXR(df.High.values, df.Low.values, df.Close.values, timeperiod=14)\n",
        "\n",
        "  # MACD\n",
        "  df[\"macd\"], df[\"macdsignal\"], df[\"macdhist\"] = talib.MACD(df.Close.values, fastperiod=12, slowperiod=26, signalperiod=9)\n",
        "\n",
        "  percent_col = ['Open', 'High', 'Low', 'EMA10', 'EMA15',\n",
        "       'EMA20', 'EMA25', 'EMA50', 'EMA75', 'EMA100', 'EMA200',\n",
        "       'boll_upperband', 'boll_middleband', 'boll_lowerband']\n",
        "\n",
        "  norm_col = ['Close', 'Volume', 'Turnover']\n",
        "\n",
        "  if percent:\n",
        "      for column in percent_col:\n",
        "          df[column] = (df[column] - df[\"Close\"]) / df[column] * 100\n",
        "\n",
        "\n",
        "  return df\n",
        "  "
      ],
      "metadata": {
        "id": "Utc-jUphPrwe"
      },
      "execution_count": 9,
      "outputs": []
    },
    {
      "cell_type": "code",
      "source": [
        "symbol = \"BTC-USDT\"\n",
        "interval = \"1hour\"\n",
        "start_time_train = \"Gen 1, 2018\"\n",
        "end_time_train = \"Dec 31, 2021\"\n",
        "start_time_val = \"Jen 7, 2022\"\n",
        "end_time_val = \"Feb 26, 2022\""
      ],
      "metadata": {
        "id": "lxrPYzrdEo_I"
      },
      "execution_count": 10,
      "outputs": []
    },
    {
      "cell_type": "code",
      "source": [
        "X_train = get_indicators(get_historical_data_kucoin(symbol,interval,start_time_train,end_time_train), percent=True)\n",
        "display(X_train)\n",
        "X_val = get_indicators(get_historical_data_kucoin(symbol,interval,start_time_val,end_time_val), percent=True)\n",
        "display(X_val)"
      ],
      "metadata": {
        "id": "BZeAhUBzP3N7"
      },
      "execution_count": null,
      "outputs": []
    },
    {
      "cell_type": "markdown",
      "source": [
        "## Normalize"
      ],
      "metadata": {
        "id": "wCEMvBYs2nlT"
      }
    },
    {
      "cell_type": "code",
      "source": [
        "from IPython.core.display import display_pdf\n",
        "from sklearn.preprocessing import MinMaxScaler\n",
        "\n",
        "def mean_normalization_train(df, cols):\n",
        "    means = []\n",
        "    stds = []\n",
        "    for col in cols:\n",
        "        mean = df[col].mean()\n",
        "        std = df[col].std()\n",
        "        df[col] = (df[col]-mean)/std\n",
        "        means.append(mean)\n",
        "        stds.append(std)\n",
        "    return df, means, stds\n",
        "\n",
        "def mean_normalization_test(df, cols, means, stds):\n",
        "    for col, mean, std in zip(cols, means, stds):\n",
        "        df[col] = (df[col]-mean)/std\n",
        "    return df\n",
        "\n",
        "from sklearn.preprocessing import MinMaxScaler\n",
        "\n",
        "def minmax_normalization(df, cols, min, max):\n",
        "    \n",
        "    min_max_scaler = MinMaxScaler(feature_range = (min,max))\n",
        "    df[cols] = min_max_scaler.fit_transform(df[cols])\n",
        "    return df\n"
      ],
      "metadata": {
        "id": "L6hNpf4c2qSt"
      },
      "execution_count": 13,
      "outputs": []
    },
    {
      "cell_type": "code",
      "source": [
        "# norm_col = ['Close', 'Volume', 'Turnover']\n",
        "\n",
        "# X_train_norm, means, stds = mean_normalization_train(X_train, norm_col)\n",
        "# X_val_norm = mean_normalization_test(X_val,norm_col, means, stds)\n",
        "\n",
        "# X_val_norm"
      ],
      "metadata": {
        "id": "w_XwPez14o58"
      },
      "execution_count": null,
      "outputs": []
    },
    {
      "cell_type": "code",
      "source": [
        "norm_col = ['Close', 'Volume', 'Turnover']\n",
        "\n",
        "X_train_norm = minmax_normalization(X_train, norm_col, 0, 100)\n",
        "X_val_norm = minmax_normalization(X_val, norm_col, 0, 100)\n",
        "\n"
      ],
      "metadata": {
        "id": "Ap2aOEI8X5Nw"
      },
      "execution_count": 14,
      "outputs": []
    },
    {
      "cell_type": "code",
      "source": [
        "X_train_norm"
      ],
      "metadata": {
        "colab": {
          "base_uri": "https://localhost:8080/",
          "height": 519
        },
        "id": "egWy2X1TY41g",
        "outputId": "612062ab-646b-4b6b-d434-e80a21768a78"
      },
      "execution_count": 15,
      "outputs": [
        {
          "output_type": "execute_result",
          "data": {
            "text/html": [
              "\n",
              "  <div id=\"df-fa7dcb50-7256-48ef-a58b-d1a639e57b7d\">\n",
              "    <div class=\"colab-df-container\">\n",
              "      <div>\n",
              "<style scoped>\n",
              "    .dataframe tbody tr th:only-of-type {\n",
              "        vertical-align: middle;\n",
              "    }\n",
              "\n",
              "    .dataframe tbody tr th {\n",
              "        vertical-align: top;\n",
              "    }\n",
              "\n",
              "    .dataframe thead th {\n",
              "        text-align: right;\n",
              "    }\n",
              "</style>\n",
              "<table border=\"1\" class=\"dataframe\">\n",
              "  <thead>\n",
              "    <tr style=\"text-align: right;\">\n",
              "      <th></th>\n",
              "      <th>Open</th>\n",
              "      <th>Close</th>\n",
              "      <th>High</th>\n",
              "      <th>Low</th>\n",
              "      <th>Volume</th>\n",
              "      <th>Turnover</th>\n",
              "      <th>EMA10</th>\n",
              "      <th>EMA15</th>\n",
              "      <th>EMA20</th>\n",
              "      <th>EMA25</th>\n",
              "      <th>...</th>\n",
              "      <th>EMA100</th>\n",
              "      <th>EMA200</th>\n",
              "      <th>RSI14</th>\n",
              "      <th>boll_upperband</th>\n",
              "      <th>boll_middleband</th>\n",
              "      <th>boll_lowerband</th>\n",
              "      <th>ADXR</th>\n",
              "      <th>macd</th>\n",
              "      <th>macdsignal</th>\n",
              "      <th>macdhist</th>\n",
              "    </tr>\n",
              "    <tr>\n",
              "      <th>Time</th>\n",
              "      <th></th>\n",
              "      <th></th>\n",
              "      <th></th>\n",
              "      <th></th>\n",
              "      <th></th>\n",
              "      <th></th>\n",
              "      <th></th>\n",
              "      <th></th>\n",
              "      <th></th>\n",
              "      <th></th>\n",
              "      <th></th>\n",
              "      <th></th>\n",
              "      <th></th>\n",
              "      <th></th>\n",
              "      <th></th>\n",
              "      <th></th>\n",
              "      <th></th>\n",
              "      <th></th>\n",
              "      <th></th>\n",
              "      <th></th>\n",
              "      <th></th>\n",
              "    </tr>\n",
              "  </thead>\n",
              "  <tbody>\n",
              "    <tr>\n",
              "      <th>1514764800</th>\n",
              "      <td>-1.859310</td>\n",
              "      <td>15.284072</td>\n",
              "      <td>2.418781</td>\n",
              "      <td>-5.303474</td>\n",
              "      <td>0.071309</td>\n",
              "      <td>0.019235</td>\n",
              "      <td>NaN</td>\n",
              "      <td>NaN</td>\n",
              "      <td>NaN</td>\n",
              "      <td>NaN</td>\n",
              "      <td>...</td>\n",
              "      <td>NaN</td>\n",
              "      <td>NaN</td>\n",
              "      <td>NaN</td>\n",
              "      <td>NaN</td>\n",
              "      <td>NaN</td>\n",
              "      <td>NaN</td>\n",
              "      <td>NaN</td>\n",
              "      <td>NaN</td>\n",
              "      <td>NaN</td>\n",
              "      <td>NaN</td>\n",
              "    </tr>\n",
              "    <tr>\n",
              "      <th>1514768400</th>\n",
              "      <td>-1.726466</td>\n",
              "      <td>15.631612</td>\n",
              "      <td>0.000000</td>\n",
              "      <td>-7.121503</td>\n",
              "      <td>0.054366</td>\n",
              "      <td>0.014679</td>\n",
              "      <td>NaN</td>\n",
              "      <td>NaN</td>\n",
              "      <td>NaN</td>\n",
              "      <td>NaN</td>\n",
              "      <td>...</td>\n",
              "      <td>NaN</td>\n",
              "      <td>NaN</td>\n",
              "      <td>NaN</td>\n",
              "      <td>NaN</td>\n",
              "      <td>NaN</td>\n",
              "      <td>NaN</td>\n",
              "      <td>NaN</td>\n",
              "      <td>NaN</td>\n",
              "      <td>NaN</td>\n",
              "      <td>NaN</td>\n",
              "    </tr>\n",
              "    <tr>\n",
              "      <th>1514772000</th>\n",
              "      <td>-2.889103</td>\n",
              "      <td>16.377470</td>\n",
              "      <td>0.000000</td>\n",
              "      <td>-8.867599</td>\n",
              "      <td>0.036007</td>\n",
              "      <td>0.009929</td>\n",
              "      <td>NaN</td>\n",
              "      <td>NaN</td>\n",
              "      <td>NaN</td>\n",
              "      <td>NaN</td>\n",
              "      <td>...</td>\n",
              "      <td>NaN</td>\n",
              "      <td>NaN</td>\n",
              "      <td>NaN</td>\n",
              "      <td>NaN</td>\n",
              "      <td>NaN</td>\n",
              "      <td>NaN</td>\n",
              "      <td>NaN</td>\n",
              "      <td>NaN</td>\n",
              "      <td>NaN</td>\n",
              "      <td>NaN</td>\n",
              "    </tr>\n",
              "    <tr>\n",
              "      <th>1514775600</th>\n",
              "      <td>5.790275</td>\n",
              "      <td>15.019004</td>\n",
              "      <td>5.790275</td>\n",
              "      <td>0.000000</td>\n",
              "      <td>0.080211</td>\n",
              "      <td>0.021719</td>\n",
              "      <td>NaN</td>\n",
              "      <td>NaN</td>\n",
              "      <td>NaN</td>\n",
              "      <td>NaN</td>\n",
              "      <td>...</td>\n",
              "      <td>NaN</td>\n",
              "      <td>NaN</td>\n",
              "      <td>NaN</td>\n",
              "      <td>NaN</td>\n",
              "      <td>NaN</td>\n",
              "      <td>NaN</td>\n",
              "      <td>NaN</td>\n",
              "      <td>NaN</td>\n",
              "      <td>NaN</td>\n",
              "      <td>NaN</td>\n",
              "    </tr>\n",
              "    <tr>\n",
              "      <th>1514779200</th>\n",
              "      <td>2.175871</td>\n",
              "      <td>14.586765</td>\n",
              "      <td>3.969247</td>\n",
              "      <td>-0.929657</td>\n",
              "      <td>0.082325</td>\n",
              "      <td>0.022018</td>\n",
              "      <td>NaN</td>\n",
              "      <td>NaN</td>\n",
              "      <td>NaN</td>\n",
              "      <td>NaN</td>\n",
              "      <td>...</td>\n",
              "      <td>NaN</td>\n",
              "      <td>NaN</td>\n",
              "      <td>NaN</td>\n",
              "      <td>9.339869</td>\n",
              "      <td>3.920819</td>\n",
              "      <td>-2.187243</td>\n",
              "      <td>NaN</td>\n",
              "      <td>NaN</td>\n",
              "      <td>NaN</td>\n",
              "      <td>NaN</td>\n",
              "    </tr>\n",
              "    <tr>\n",
              "      <th>...</th>\n",
              "      <td>...</td>\n",
              "      <td>...</td>\n",
              "      <td>...</td>\n",
              "      <td>...</td>\n",
              "      <td>...</td>\n",
              "      <td>...</td>\n",
              "      <td>...</td>\n",
              "      <td>...</td>\n",
              "      <td>...</td>\n",
              "      <td>...</td>\n",
              "      <td>...</td>\n",
              "      <td>...</td>\n",
              "      <td>...</td>\n",
              "      <td>...</td>\n",
              "      <td>...</td>\n",
              "      <td>...</td>\n",
              "      <td>...</td>\n",
              "      <td>...</td>\n",
              "      <td>...</td>\n",
              "      <td>...</td>\n",
              "      <td>...</td>\n",
              "    </tr>\n",
              "    <tr>\n",
              "      <th>1640890800</th>\n",
              "      <td>0.649459</td>\n",
              "      <td>67.829107</td>\n",
              "      <td>0.724739</td>\n",
              "      <td>-0.057224</td>\n",
              "      <td>20.907965</td>\n",
              "      <td>20.617136</td>\n",
              "      <td>-0.221517</td>\n",
              "      <td>-0.654612</td>\n",
              "      <td>-0.984006</td>\n",
              "      <td>-0.983118</td>\n",
              "      <td>...</td>\n",
              "      <td>2.643711</td>\n",
              "      <td>3.862572</td>\n",
              "      <td>53.883939</td>\n",
              "      <td>0.982465</td>\n",
              "      <td>0.024679</td>\n",
              "      <td>-0.951817</td>\n",
              "      <td>35.147811</td>\n",
              "      <td>59.214129</td>\n",
              "      <td>-59.314796</td>\n",
              "      <td>118.528925</td>\n",
              "    </tr>\n",
              "    <tr>\n",
              "      <th>1640894400</th>\n",
              "      <td>0.740135</td>\n",
              "      <td>67.290000</td>\n",
              "      <td>0.996808</td>\n",
              "      <td>-0.243990</td>\n",
              "      <td>21.896467</td>\n",
              "      <td>21.397268</td>\n",
              "      <td>0.574310</td>\n",
              "      <td>0.154456</td>\n",
              "      <td>-0.181606</td>\n",
              "      <td>-0.229024</td>\n",
              "      <td>...</td>\n",
              "      <td>3.305785</td>\n",
              "      <td>4.562524</td>\n",
              "      <td>47.584147</td>\n",
              "      <td>1.673294</td>\n",
              "      <td>0.784070</td>\n",
              "      <td>-0.121386</td>\n",
              "      <td>33.735934</td>\n",
              "      <td>39.018344</td>\n",
              "      <td>-39.648168</td>\n",
              "      <td>78.666512</td>\n",
              "    </tr>\n",
              "    <tr>\n",
              "      <th>1640898000</th>\n",
              "      <td>-0.194868</td>\n",
              "      <td>67.437460</td>\n",
              "      <td>0.086811</td>\n",
              "      <td>-0.861848</td>\n",
              "      <td>12.732546</td>\n",
              "      <td>12.394836</td>\n",
              "      <td>0.322842</td>\n",
              "      <td>0.007215</td>\n",
              "      <td>-0.308453</td>\n",
              "      <td>-0.439115</td>\n",
              "      <td>...</td>\n",
              "      <td>3.049754</td>\n",
              "      <td>4.355299</td>\n",
              "      <td>49.329198</td>\n",
              "      <td>1.456674</td>\n",
              "      <td>0.457651</td>\n",
              "      <td>-0.561834</td>\n",
              "      <td>32.544106</td>\n",
              "      <td>30.448787</td>\n",
              "      <td>-25.628777</td>\n",
              "      <td>56.077564</td>\n",
              "    </tr>\n",
              "    <tr>\n",
              "      <th>1640901600</th>\n",
              "      <td>0.474385</td>\n",
              "      <td>67.094558</td>\n",
              "      <td>0.513503</td>\n",
              "      <td>-0.790197</td>\n",
              "      <td>10.667614</td>\n",
              "      <td>10.351116</td>\n",
              "      <td>0.702647</td>\n",
              "      <td>0.495336</td>\n",
              "      <td>0.212160</td>\n",
              "      <td>0.024056</td>\n",
              "      <td>...</td>\n",
              "      <td>3.445039</td>\n",
              "      <td>4.792167</td>\n",
              "      <td>45.532975</td>\n",
              "      <td>1.851604</td>\n",
              "      <td>0.685429</td>\n",
              "      <td>-0.508793</td>\n",
              "      <td>31.728943</td>\n",
              "      <td>5.486898</td>\n",
              "      <td>-19.405642</td>\n",
              "      <td>24.892540</td>\n",
              "    </tr>\n",
              "    <tr>\n",
              "      <th>1640905200</th>\n",
              "      <td>-0.092185</td>\n",
              "      <td>67.160877</td>\n",
              "      <td>0.242606</td>\n",
              "      <td>-0.385587</td>\n",
              "      <td>13.475581</td>\n",
              "      <td>13.095681</td>\n",
              "      <td>0.568851</td>\n",
              "      <td>0.448845</td>\n",
              "      <td>0.185311</td>\n",
              "      <td>-0.081259</td>\n",
              "      <td>...</td>\n",
              "      <td>3.292170</td>\n",
              "      <td>4.687430</td>\n",
              "      <td>46.392240</td>\n",
              "      <td>0.995258</td>\n",
              "      <td>0.279086</td>\n",
              "      <td>-0.447523</td>\n",
              "      <td>31.032413</td>\n",
              "      <td>-10.670558</td>\n",
              "      <td>-17.658625</td>\n",
              "      <td>6.988067</td>\n",
              "    </tr>\n",
              "  </tbody>\n",
              "</table>\n",
              "<p>35039 rows × 22 columns</p>\n",
              "</div>\n",
              "      <button class=\"colab-df-convert\" onclick=\"convertToInteractive('df-fa7dcb50-7256-48ef-a58b-d1a639e57b7d')\"\n",
              "              title=\"Convert this dataframe to an interactive table.\"\n",
              "              style=\"display:none;\">\n",
              "        \n",
              "  <svg xmlns=\"http://www.w3.org/2000/svg\" height=\"24px\"viewBox=\"0 0 24 24\"\n",
              "       width=\"24px\">\n",
              "    <path d=\"M0 0h24v24H0V0z\" fill=\"none\"/>\n",
              "    <path d=\"M18.56 5.44l.94 2.06.94-2.06 2.06-.94-2.06-.94-.94-2.06-.94 2.06-2.06.94zm-11 1L8.5 8.5l.94-2.06 2.06-.94-2.06-.94L8.5 2.5l-.94 2.06-2.06.94zm10 10l.94 2.06.94-2.06 2.06-.94-2.06-.94-.94-2.06-.94 2.06-2.06.94z\"/><path d=\"M17.41 7.96l-1.37-1.37c-.4-.4-.92-.59-1.43-.59-.52 0-1.04.2-1.43.59L10.3 9.45l-7.72 7.72c-.78.78-.78 2.05 0 2.83L4 21.41c.39.39.9.59 1.41.59.51 0 1.02-.2 1.41-.59l7.78-7.78 2.81-2.81c.8-.78.8-2.07 0-2.86zM5.41 20L4 18.59l7.72-7.72 1.47 1.35L5.41 20z\"/>\n",
              "  </svg>\n",
              "      </button>\n",
              "      \n",
              "  <style>\n",
              "    .colab-df-container {\n",
              "      display:flex;\n",
              "      flex-wrap:wrap;\n",
              "      gap: 12px;\n",
              "    }\n",
              "\n",
              "    .colab-df-convert {\n",
              "      background-color: #E8F0FE;\n",
              "      border: none;\n",
              "      border-radius: 50%;\n",
              "      cursor: pointer;\n",
              "      display: none;\n",
              "      fill: #1967D2;\n",
              "      height: 32px;\n",
              "      padding: 0 0 0 0;\n",
              "      width: 32px;\n",
              "    }\n",
              "\n",
              "    .colab-df-convert:hover {\n",
              "      background-color: #E2EBFA;\n",
              "      box-shadow: 0px 1px 2px rgba(60, 64, 67, 0.3), 0px 1px 3px 1px rgba(60, 64, 67, 0.15);\n",
              "      fill: #174EA6;\n",
              "    }\n",
              "\n",
              "    [theme=dark] .colab-df-convert {\n",
              "      background-color: #3B4455;\n",
              "      fill: #D2E3FC;\n",
              "    }\n",
              "\n",
              "    [theme=dark] .colab-df-convert:hover {\n",
              "      background-color: #434B5C;\n",
              "      box-shadow: 0px 1px 3px 1px rgba(0, 0, 0, 0.15);\n",
              "      filter: drop-shadow(0px 1px 2px rgba(0, 0, 0, 0.3));\n",
              "      fill: #FFFFFF;\n",
              "    }\n",
              "  </style>\n",
              "\n",
              "      <script>\n",
              "        const buttonEl =\n",
              "          document.querySelector('#df-fa7dcb50-7256-48ef-a58b-d1a639e57b7d button.colab-df-convert');\n",
              "        buttonEl.style.display =\n",
              "          google.colab.kernel.accessAllowed ? 'block' : 'none';\n",
              "\n",
              "        async function convertToInteractive(key) {\n",
              "          const element = document.querySelector('#df-fa7dcb50-7256-48ef-a58b-d1a639e57b7d');\n",
              "          const dataTable =\n",
              "            await google.colab.kernel.invokeFunction('convertToInteractive',\n",
              "                                                     [key], {});\n",
              "          if (!dataTable) return;\n",
              "\n",
              "          const docLinkHtml = 'Like what you see? Visit the ' +\n",
              "            '<a target=\"_blank\" href=https://colab.research.google.com/notebooks/data_table.ipynb>data table notebook</a>'\n",
              "            + ' to learn more about interactive tables.';\n",
              "          element.innerHTML = '';\n",
              "          dataTable['output_type'] = 'display_data';\n",
              "          await google.colab.output.renderOutput(dataTable, element);\n",
              "          const docLink = document.createElement('div');\n",
              "          docLink.innerHTML = docLinkHtml;\n",
              "          element.appendChild(docLink);\n",
              "        }\n",
              "      </script>\n",
              "    </div>\n",
              "  </div>\n",
              "  "
            ],
            "text/plain": [
              "                Open      Close      High       Low     Volume   Turnover  \\\n",
              "Time                                                                        \n",
              "1514764800 -1.859310  15.284072  2.418781 -5.303474   0.071309   0.019235   \n",
              "1514768400 -1.726466  15.631612  0.000000 -7.121503   0.054366   0.014679   \n",
              "1514772000 -2.889103  16.377470  0.000000 -8.867599   0.036007   0.009929   \n",
              "1514775600  5.790275  15.019004  5.790275  0.000000   0.080211   0.021719   \n",
              "1514779200  2.175871  14.586765  3.969247 -0.929657   0.082325   0.022018   \n",
              "...              ...        ...       ...       ...        ...        ...   \n",
              "1640890800  0.649459  67.829107  0.724739 -0.057224  20.907965  20.617136   \n",
              "1640894400  0.740135  67.290000  0.996808 -0.243990  21.896467  21.397268   \n",
              "1640898000 -0.194868  67.437460  0.086811 -0.861848  12.732546  12.394836   \n",
              "1640901600  0.474385  67.094558  0.513503 -0.790197  10.667614  10.351116   \n",
              "1640905200 -0.092185  67.160877  0.242606 -0.385587  13.475581  13.095681   \n",
              "\n",
              "               EMA10     EMA15     EMA20     EMA25  ...    EMA100    EMA200  \\\n",
              "Time                                                ...                       \n",
              "1514764800       NaN       NaN       NaN       NaN  ...       NaN       NaN   \n",
              "1514768400       NaN       NaN       NaN       NaN  ...       NaN       NaN   \n",
              "1514772000       NaN       NaN       NaN       NaN  ...       NaN       NaN   \n",
              "1514775600       NaN       NaN       NaN       NaN  ...       NaN       NaN   \n",
              "1514779200       NaN       NaN       NaN       NaN  ...       NaN       NaN   \n",
              "...              ...       ...       ...       ...  ...       ...       ...   \n",
              "1640890800 -0.221517 -0.654612 -0.984006 -0.983118  ...  2.643711  3.862572   \n",
              "1640894400  0.574310  0.154456 -0.181606 -0.229024  ...  3.305785  4.562524   \n",
              "1640898000  0.322842  0.007215 -0.308453 -0.439115  ...  3.049754  4.355299   \n",
              "1640901600  0.702647  0.495336  0.212160  0.024056  ...  3.445039  4.792167   \n",
              "1640905200  0.568851  0.448845  0.185311 -0.081259  ...  3.292170  4.687430   \n",
              "\n",
              "                RSI14  boll_upperband  boll_middleband  boll_lowerband  \\\n",
              "Time                                                                     \n",
              "1514764800        NaN             NaN              NaN             NaN   \n",
              "1514768400        NaN             NaN              NaN             NaN   \n",
              "1514772000        NaN             NaN              NaN             NaN   \n",
              "1514775600        NaN             NaN              NaN             NaN   \n",
              "1514779200        NaN        9.339869         3.920819       -2.187243   \n",
              "...               ...             ...              ...             ...   \n",
              "1640890800  53.883939        0.982465         0.024679       -0.951817   \n",
              "1640894400  47.584147        1.673294         0.784070       -0.121386   \n",
              "1640898000  49.329198        1.456674         0.457651       -0.561834   \n",
              "1640901600  45.532975        1.851604         0.685429       -0.508793   \n",
              "1640905200  46.392240        0.995258         0.279086       -0.447523   \n",
              "\n",
              "                 ADXR       macd  macdsignal    macdhist  \n",
              "Time                                                      \n",
              "1514764800        NaN        NaN         NaN         NaN  \n",
              "1514768400        NaN        NaN         NaN         NaN  \n",
              "1514772000        NaN        NaN         NaN         NaN  \n",
              "1514775600        NaN        NaN         NaN         NaN  \n",
              "1514779200        NaN        NaN         NaN         NaN  \n",
              "...               ...        ...         ...         ...  \n",
              "1640890800  35.147811  59.214129  -59.314796  118.528925  \n",
              "1640894400  33.735934  39.018344  -39.648168   78.666512  \n",
              "1640898000  32.544106  30.448787  -25.628777   56.077564  \n",
              "1640901600  31.728943   5.486898  -19.405642   24.892540  \n",
              "1640905200  31.032413 -10.670558  -17.658625    6.988067  \n",
              "\n",
              "[35039 rows x 22 columns]"
            ]
          },
          "metadata": {},
          "execution_count": 15
        }
      ]
    },
    {
      "cell_type": "markdown",
      "source": [
        "### Data save on drive"
      ],
      "metadata": {
        "id": "vIaT8DGzNQRH"
      }
    },
    {
      "cell_type": "code",
      "source": [
        "from google.colab import drive\n",
        "\n",
        "def save_to_drive(df,filename):\n",
        "  drive.mount('/content/drive')\n",
        "  path = '/content/drive/My Drive/BOT/'+filename+'.csv'\n",
        "\n",
        "  with open(path, 'w', encoding = 'utf-8-sig') as f:\n",
        "    df.to_csv(f)\n"
      ],
      "metadata": {
        "id": "FHWmI4JwdTKg"
      },
      "execution_count": 16,
      "outputs": []
    },
    {
      "cell_type": "code",
      "source": [
        "save_to_drive(X_train,\"train_BTCUSDT_1h_Gen-1-2018_Dec-31-2021_percent+minmaxnorm\")"
      ],
      "metadata": {
        "colab": {
          "base_uri": "https://localhost:8080/"
        },
        "id": "wUe5i-U-O1n0",
        "outputId": "00d7575b-23ec-4f80-cbd4-dd39bdfbe7f1"
      },
      "execution_count": 17,
      "outputs": [
        {
          "output_type": "stream",
          "name": "stdout",
          "text": [
            "Drive already mounted at /content/drive; to attempt to forcibly remount, call drive.mount(\"/content/drive\", force_remount=True).\n"
          ]
        }
      ]
    },
    {
      "cell_type": "code",
      "source": [
        "save_to_drive(X_val,\"val_BTCUSDT_1h_Jen-7-2022_Feb-26-2022_percent+minmaxnorm\")"
      ],
      "metadata": {
        "id": "HjA2BclXO5H1",
        "colab": {
          "base_uri": "https://localhost:8080/"
        },
        "outputId": "1dd7a72f-4dff-49c1-8322-a476f8b0da48"
      },
      "execution_count": 18,
      "outputs": [
        {
          "output_type": "stream",
          "name": "stdout",
          "text": [
            "Drive already mounted at /content/drive; to attempt to forcibly remount, call drive.mount(\"/content/drive\", force_remount=True).\n"
          ]
        }
      ]
    },
    {
      "cell_type": "code",
      "source": [
        ""
      ],
      "metadata": {
        "id": "22DJ8w-V42Qo"
      },
      "execution_count": null,
      "outputs": []
    }
  ]
}
